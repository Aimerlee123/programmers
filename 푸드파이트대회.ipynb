{
  "nbformat": 4,
  "nbformat_minor": 0,
  "metadata": {
    "colab": {
      "provenance": [],
      "authorship_tag": "ABX9TyMgX33qFu3FFkRDKBAaWAeu",
      "include_colab_link": true
    },
    "kernelspec": {
      "name": "python3",
      "display_name": "Python 3"
    },
    "language_info": {
      "name": "python"
    }
  },
  "cells": [
    {
      "cell_type": "markdown",
      "metadata": {
        "id": "view-in-github",
        "colab_type": "text"
      },
      "source": [
        "<a href=\"https://colab.research.google.com/github/Aimerlee123/programmers/blob/main/%ED%91%B8%EB%93%9C%ED%8C%8C%EC%9D%B4%ED%8A%B8%EB%8C%80%ED%9A%8C.ipynb\" target=\"_parent\"><img src=\"https://colab.research.google.com/assets/colab-badge.svg\" alt=\"Open In Colab\"/></a>"
      ]
    },
    {
      "cell_type": "code",
      "execution_count": 2,
      "metadata": {
        "id": "TQqgY9p6cQZI"
      },
      "outputs": [],
      "source": [
        "def solution(food):\n",
        "    answer = '0' \n",
        "    for i in range(len(food)-1,0,-1): \n",
        "        answer=str(i)*(food[i]//2)+answer\n",
        "        answer=answer+str(i)*(food[i]//2)\n",
        "    return answer"
      ]
    }
  ]
}