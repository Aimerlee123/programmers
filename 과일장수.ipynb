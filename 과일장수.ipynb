{
  "nbformat": 4,
  "nbformat_minor": 0,
  "metadata": {
    "colab": {
      "provenance": [],
      "authorship_tag": "ABX9TyPB3XfuRZszJ8N/4mawlJ7J",
      "include_colab_link": true
    },
    "kernelspec": {
      "name": "python3",
      "display_name": "Python 3"
    },
    "language_info": {
      "name": "python"
    }
  },
  "cells": [
    {
      "cell_type": "markdown",
      "metadata": {
        "id": "view-in-github",
        "colab_type": "text"
      },
      "source": [
        "<a href=\"https://colab.research.google.com/github/Aimerlee123/programmers/blob/main/%EA%B3%BC%EC%9D%BC%EC%9E%A5%EC%88%98.ipynb\" target=\"_parent\"><img src=\"https://colab.research.google.com/assets/colab-badge.svg\" alt=\"Open In Colab\"/></a>"
      ]
    },
    {
      "cell_type": "code",
      "execution_count": 1,
      "metadata": {
        "id": "xebEXruO8Tw-"
      },
      "outputs": [],
      "source": [
        "def solution(k, m, score):\n",
        "    answer=0\n",
        "    score=sorted(score,reverse=True)\n",
        "    for i in range(0, len(score), m):\n",
        "        tmp = score[i:i+m]\n",
        "        \n",
        "        if len(tmp) == m:\n",
        "            answer += min(tmp) * m\n",
        "    \n",
        "\n",
        "    return answer"
      ]
    }
  ]
}