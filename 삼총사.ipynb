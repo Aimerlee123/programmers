{
  "nbformat": 4,
  "nbformat_minor": 0,
  "metadata": {
    "colab": {
      "provenance": [],
      "authorship_tag": "ABX9TyNt4wcI1XjawW+qJwGVk24x",
      "include_colab_link": true
    },
    "kernelspec": {
      "name": "python3",
      "display_name": "Python 3"
    },
    "language_info": {
      "name": "python"
    }
  },
  "cells": [
    {
      "cell_type": "markdown",
      "metadata": {
        "id": "view-in-github",
        "colab_type": "text"
      },
      "source": [
        "<a href=\"https://colab.research.google.com/github/Aimerlee123/programmers/blob/main/%EC%82%BC%EC%B4%9D%EC%82%AC.ipynb\" target=\"_parent\"><img src=\"https://colab.research.google.com/assets/colab-badge.svg\" alt=\"Open In Colab\"/></a>"
      ]
    },
    {
      "cell_type": "code",
      "execution_count": null,
      "metadata": {
        "id": "QDGh6M4Scyq1"
      },
      "outputs": [],
      "source": [
        "from itertools import combinations\n",
        "\n",
        "def solution(number):    \n",
        "    num_combinations = [sum(comb) for comb in list(combinations(number, 3)) if sum(comb) == 0]\n",
        "    \n",
        "    return len(num_combinations)"
      ]
    }
  ]
}